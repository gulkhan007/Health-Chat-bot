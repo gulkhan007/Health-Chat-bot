{
 "cells": [
  {
   "cell_type": "code",
   "execution_count": 1,
   "id": "dd86f999-85a4-45e3-972a-6ad9e1277e74",
   "metadata": {},
   "outputs": [],
   "source": [
    "import pandas as pd\n",
    "import numpy as np\n",
    "import json\n",
    "import fnmatch\n",
    "from IPython.display import clear_output\n",
    "import warnings\n",
    "import matplotlib.pyplot as plt\n",
    "import threading"
   ]
  },
  {
   "cell_type": "code",
   "execution_count": null,
   "id": "5e4aeb4a-25b7-4726-a742-23a8d001d1c4",
   "metadata": {},
   "outputs": [],
   "source": []
  },
  {
   "cell_type": "code",
   "execution_count": 2,
   "id": "245d38f9-6798-4e49-a9d5-cc3e6e00b439",
   "metadata": {},
   "outputs": [],
   "source": [
    "#sensors = {\"heart beat\",\"blood pressure\",\"water intake\",\"sleep\",\"sugar level\",\"exercise time\",\"mobile usage\",\"calories intake\"}\n",
    "sensors = {\"heart beat\":\"heart rate\",\"blood pressure\":\"mmHg\",\"water intake\":\"liters\",\"sleep\":\"hours\",\"sugar level\":\"mmol/L\",\"exercise time\":\"minutes\",\"mobile usage\":\"hours\",\"calories intake\":\"kj\"}"
   ]
  },
  {
   "cell_type": "code",
   "execution_count": 20,
   "id": "366a63fc-7c11-41cd-8e91-f3e78ffe45c0",
   "metadata": {},
   "outputs": [],
   "source": [
    "#sensors"
   ]
  },
  {
   "cell_type": "code",
   "execution_count": null,
   "id": "1c916a90-6c12-45e6-a4f8-5e664d6f16eb",
   "metadata": {},
   "outputs": [],
   "source": []
  },
  {
   "cell_type": "code",
   "execution_count": 3,
   "id": "89b1fd0e-9141-4cd1-b464-52cda62cf6af",
   "metadata": {},
   "outputs": [],
   "source": [
    "levels = (\"normal\",\"low\",\"critical\",\"high\",\"sensor\")"
   ]
  },
  {
   "cell_type": "code",
   "execution_count": 5,
   "id": "09889426-0f7f-4d5f-9a17-0930fa08146b",
   "metadata": {},
   "outputs": [],
   "source": [
    "#print(f\"Enter the sleep data in following order {levels[:-1]}\")"
   ]
  },
  {
   "cell_type": "code",
   "execution_count": 6,
   "id": "081530dc-3886-4edc-a47c-2571594ff573",
   "metadata": {},
   "outputs": [],
   "source": [
    "sensor_data = pd.read_json(json.load(open(\"sensor_data.json\")), orient ='records')\n",
    "df = pd.read_json(json.load(open(\"rules.json\")), orient ='records')"
   ]
  },
  {
   "cell_type": "code",
   "execution_count": 18,
   "id": "6c11fa5d-0c19-4823-b1d9-81e654a53473",
   "metadata": {},
   "outputs": [],
   "source": [
    "#df"
   ]
  },
  {
   "cell_type": "code",
   "execution_count": null,
   "id": "f0081645-a71e-4661-86be-eda9690527a7",
   "metadata": {},
   "outputs": [],
   "source": []
  },
  {
   "cell_type": "code",
   "execution_count": null,
   "id": "952c2763-3f32-47d8-9c4b-b10a6d380138",
   "metadata": {},
   "outputs": [],
   "source": []
  },
  {
   "cell_type": "code",
   "execution_count": 8,
   "id": "76db55a3-f0a7-46a4-8c97-c603e44e85be",
   "metadata": {},
   "outputs": [],
   "source": [
    "def show_sensorx(x):\n",
    "    #return\n",
    "    sdf = df[df['sensor']==x]\n",
    "    if sdf.shape[0]>0:\n",
    "        tmp = sdf.iloc[:,:-1].T\n",
    "        tmp=tmp.rename(columns={0:'value'})\n",
    "        \n",
    "        # tmp['value'] = tmp['value'].astype(float)\n",
    "        # tmp.plot(kind='bar')\n",
    "        print(f\"Existing {x} data is\")\n",
    "        print(f\"{tmp}\\n\\n\")"
   ]
  },
  {
   "cell_type": "code",
   "execution_count": null,
   "id": "7d4dc164-8219-4ba8-8947-d23a3494bea9",
   "metadata": {},
   "outputs": [],
   "source": []
  },
  {
   "cell_type": "code",
   "execution_count": null,
   "id": "df22d4b7-58f8-431d-bba5-da4f5eef67ea",
   "metadata": {},
   "outputs": [],
   "source": []
  },
  {
   "cell_type": "code",
   "execution_count": 431,
   "id": "1f118ef8-c6d9-48ba-a00e-53a1105034ca",
   "metadata": {},
   "outputs": [
    {
     "name": "stdout",
     "output_type": "stream",
     "text": [
      "You have selected the mobile usage\n",
      "\n",
      "Existing mobile usage data is in hours\n",
      "           6\n",
      "normal     3\n",
      "low        1\n",
      "critical  10\n",
      "high       5\n",
      "\n",
      "\n"
     ]
    },
    {
     "name": "stdin",
     "output_type": "stream",
     "text": [
      "Enter the mobile usage data in following order in hours ('normal', 'low', 'critical', 'high')\n",
      " (Or write exit or change to select other sensor)\n",
      " exit\n"
     ]
    }
   ],
   "source": [
    "fun_input()"
   ]
  },
  {
   "cell_type": "code",
   "execution_count": null,
   "id": "c1d66814-3968-4a11-906f-7ca8b237160b",
   "metadata": {},
   "outputs": [],
   "source": []
  },
  {
   "cell_type": "code",
   "execution_count": 10,
   "id": "7daa5045-df61-42b7-873d-766b75d7c0e3",
   "metadata": {},
   "outputs": [],
   "source": [
    "def fun_input():\n",
    "    sensor=\"\"       \n",
    "    while(True):\n",
    "\n",
    "        if sensor ==\"\":\n",
    "            #clear_output()\n",
    "            ichoice = input(f\"\\n\\nEnter sensor from the list {sensors.keys()}\\n\\n write exit any time\\n\\n\")\n",
    "        if ichoice==\"exit\":\n",
    "            break;\n",
    "        fflag=False    \n",
    "        for item in sensors:\n",
    "            if ichoice in item:\n",
    "                clear_output()\n",
    "                print(f\"You have selected the {item}\\n\")\n",
    "                sensor = item\n",
    "                #print(item)\n",
    "                fflag=True\n",
    "                show_sensor(sensor)\n",
    "                #t1 = threading.Thread(target=show_sensor, args=(\"sleep\",))\n",
    "               # t1.start()\n",
    "                #fun_input_fresh();\n",
    "                #break;\n",
    "        idata=\"\" \n",
    "        if fflag !=True:\n",
    "            print(\"Wrong input\");\n",
    "            sensor=\"\"\n",
    "\n",
    "        else:     \n",
    "            idata = input(f\"Enter the {sensor} data in following order in {sensors[sensor]} {levels[:-1]}\\n (Or write exit or change to select other sensor)\\n\")\n",
    "        if idata ==\"exit\":\n",
    "            break;\n",
    "        if (idata !=\"change\") | (fflag!=True) :\n",
    "            isplit = idata.split(',')\n",
    "            insert_record(idata,sensor)\n",
    "            # if len(isplit) !=4:\n",
    "            #     print(\"please follow the format\")\n",
    "            # else:\n",
    "            #     df.loc[len(df.index)] = [isplit[0],isplit[1],isplit[2],sensor]\n",
    "            #     print(f\"data is going to store {isplit} in sensor record {sensor}\")\n",
    "        else:\n",
    "            clear_output()\n",
    "            sensor=\"\"\n",
    "        if idata ==\"exit\":\n",
    "            break;\n",
    "        \n"
   ]
  },
  {
   "cell_type": "code",
   "execution_count": 361,
   "id": "abed33f2-39d8-4a92-ac0c-142f598e984a",
   "metadata": {},
   "outputs": [
    {
     "name": "stdout",
     "output_type": "stream",
     "text": [
      "You have selected the water intake\n",
      "\n"
     ]
    },
    {
     "name": "stdin",
     "output_type": "stream",
     "text": [
      "Enter the water intake data in following order in liters ('normal', 'low', 'critical', 'high')\n",
      " (Or write exit or change to select other sensor)\n",
      " exit\n"
     ]
    }
   ],
   "source": [
    "fun_input()"
   ]
  },
  {
   "cell_type": "code",
   "execution_count": null,
   "id": "73f28c58-f6c8-4366-a089-2f3dcdfd36cc",
   "metadata": {},
   "outputs": [],
   "source": []
  },
  {
   "cell_type": "code",
   "execution_count": null,
   "id": "fbae4d87-1381-496b-b09b-a0e7c15f3528",
   "metadata": {},
   "outputs": [],
   "source": []
  },
  {
   "cell_type": "code",
   "execution_count": null,
   "id": "17ab28bd-bff0-4122-aca3-ffb178d23f7c",
   "metadata": {},
   "outputs": [],
   "source": []
  },
  {
   "cell_type": "code",
   "execution_count": null,
   "id": "c73251e4-2adc-4541-ae5f-159f277bc599",
   "metadata": {},
   "outputs": [],
   "source": []
  },
  {
   "cell_type": "code",
   "execution_count": 9,
   "id": "e821977b-5e0a-4a70-b0ae-8eb9e152ac6a",
   "metadata": {},
   "outputs": [],
   "source": [
    "def insert_record(ndata,sname):\n",
    "    p=None\n",
    "    print(f\"{ndata}____{sname}\")\n",
    "    nsplit = ndata.split(',')\n",
    "    \n",
    "    if len(nsplit) !=4:\n",
    "            print(\"please follow the format\")\n",
    "    else:\n",
    "        if len(df[df[\"sensor\"]==sname].index)>0:\n",
    "            df.loc[df[df[\"sensor\"]==sname].index] = [nsplit[0],nsplit[1],nsplit[2],nsplit[3],sname]\n",
    "            print(f\"data is going to update {nsplit} in sensor record {sname}\")\n",
    "            jdata = df.to_json()\n",
    "            with open(f\"rules.json\", \"w\") as outfile:\n",
    "                json.dump(jdata, outfile)\n",
    "        else:\n",
    "            df.loc[len(df.index)] = [nsplit[0],nsplit[1],nsplit[2],nsplit[3],sname]\n",
    "            print(f\"data is going to store {nsplit} in sensor record {sname}\")\n",
    "            jdata = df.to_json()\n",
    "            with open(f\"rules.json\", \"w\") as outfile:\n",
    "                json.dump(jdata, outfile)\n",
    "            \n",
    "def show_sensor(x):\n",
    "    #return\n",
    "    sdf = df[df['sensor']==x]\n",
    "    if sdf.shape[0]>0:\n",
    "        tmp = sdf.iloc[:,:-1].T\n",
    "        tmp=tmp.rename(columns={0:'value'})\n",
    "        \n",
    "        # tmp['value'] = tmp['value'].astype(float)\n",
    "        # tmp.plot(kind='bar')\n",
    "        print(f\"Existing {x} data is in {sensors[x]}\")\n",
    "        print(f\"{tmp}\\n\\n\")"
   ]
  },
  {
   "cell_type": "code",
   "execution_count": null,
   "id": "1d74259f-04dd-4ea0-9ef8-d77fc5fee7ff",
   "metadata": {},
   "outputs": [],
   "source": []
  },
  {
   "cell_type": "code",
   "execution_count": null,
   "id": "6acbfc72-f6a6-492c-bc89-a09c36584cc7",
   "metadata": {},
   "outputs": [],
   "source": []
  },
  {
   "cell_type": "code",
   "execution_count": null,
   "id": "4a944931-61f8-4ef3-8e19-d6fdb84eca74",
   "metadata": {},
   "outputs": [],
   "source": []
  },
  {
   "cell_type": "markdown",
   "id": "cc87c750-e687-4c31-a1cd-e9ea0546df02",
   "metadata": {},
   "source": [
    "<h1> Module for Admin </h1>"
   ]
  },
  {
   "cell_type": "code",
   "execution_count": null,
   "id": "87c5e574-2dc7-465a-ae5b-fa7e715ad7aa",
   "metadata": {},
   "outputs": [],
   "source": []
  },
  {
   "cell_type": "code",
   "execution_count": 21,
   "id": "f1958660-10a3-40d9-bd18-c25a413623f3",
   "metadata": {},
   "outputs": [
    {
     "name": "stdout",
     "output_type": "stream",
     "text": [
      "You have selected the exercise time\n",
      "\n",
      "Existing exercise time data is in minutes\n",
      "             1\n",
      "normal    75.0\n",
      "low       10.0\n",
      "critical     0\n",
      "high       100\n",
      "\n",
      "\n"
     ]
    },
    {
     "name": "stdin",
     "output_type": "stream",
     "text": [
      "Enter the exercise time data in following order in minutes ('normal', 'low', 'critical', 'high')\n",
      " (Or write exit or change to select other sensor)\n",
      " exit\n"
     ]
    }
   ],
   "source": [
    "fun_input()"
   ]
  },
  {
   "cell_type": "code",
   "execution_count": null,
   "id": "1ccd8d8c-e51f-4a46-abef-0b3fa2dae5e9",
   "metadata": {},
   "outputs": [],
   "source": []
  },
  {
   "cell_type": "code",
   "execution_count": null,
   "id": "9cefcd1b-2fbb-4caa-801a-b1a902d6909b",
   "metadata": {},
   "outputs": [],
   "source": []
  },
  {
   "cell_type": "code",
   "execution_count": null,
   "id": "d9075596-4b78-48d4-81ee-e35f54eff4f1",
   "metadata": {},
   "outputs": [],
   "source": []
  },
  {
   "cell_type": "code",
   "execution_count": null,
   "id": "9169e934-8522-4ce3-acbd-c572d6a991c6",
   "metadata": {},
   "outputs": [],
   "source": []
  },
  {
   "cell_type": "code",
   "execution_count": null,
   "id": "2dcf00ea-4ba5-42cc-8fab-80bd182ffbc4",
   "metadata": {},
   "outputs": [],
   "source": []
  },
  {
   "cell_type": "code",
   "execution_count": null,
   "id": "33f9c8bb-7a92-4159-aa41-1f93c1416c36",
   "metadata": {},
   "outputs": [],
   "source": []
  },
  {
   "cell_type": "code",
   "execution_count": null,
   "id": "b4f7b4e6-fd0f-48cf-a92c-7222fbf42b21",
   "metadata": {},
   "outputs": [],
   "source": []
  },
  {
   "cell_type": "code",
   "execution_count": null,
   "id": "47cdc85b-0b5d-4c51-97a6-62e0b6c569b5",
   "metadata": {},
   "outputs": [],
   "source": []
  },
  {
   "cell_type": "code",
   "execution_count": null,
   "id": "b8a9334c-5b87-459a-8067-6db86abeda19",
   "metadata": {},
   "outputs": [],
   "source": []
  }
 ],
 "metadata": {
  "kernelspec": {
   "display_name": "Python 3 (ipykernel)",
   "language": "python",
   "name": "python3"
  },
  "language_info": {
   "codemirror_mode": {
    "name": "ipython",
    "version": 3
   },
   "file_extension": ".py",
   "mimetype": "text/x-python",
   "name": "python",
   "nbconvert_exporter": "python",
   "pygments_lexer": "ipython3",
   "version": "3.9.13"
  }
 },
 "nbformat": 4,
 "nbformat_minor": 5
}
