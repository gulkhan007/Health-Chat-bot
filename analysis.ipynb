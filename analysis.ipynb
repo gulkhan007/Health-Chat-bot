{
 "cells": [
  {
   "cell_type": "code",
   "execution_count": 15,
   "id": "40971cd0-b12c-4672-a74b-ca11d069b2a9",
   "metadata": {},
   "outputs": [],
   "source": [
    "import pandas as pd\n",
    "import numpy as np\n",
    "import json\n",
    "import fnmatch\n",
    "from IPython.display import clear_output\n",
    "import warnings\n",
    "import matplotlib.pyplot as plt\n",
    "import threading\n",
    "import math"
   ]
  },
  {
   "cell_type": "code",
   "execution_count": 237,
   "id": "7f5e824f-dbf5-482c-8b05-89655ec8850a",
   "metadata": {},
   "outputs": [],
   "source": [
    "sensors_meta = {\"heart beat\":\"bad/bad\",\"blood pressure\":\"bad/bad\",\"water intake\":\"Good/bad\",\"sleep\":\"bad/bad\",\"sugar level\":\"bad/bad\",\"exercise time\":\"good/bad\",\"mobile usage\":\"bad/good\",\"calories intake\":\"bad/bad\"}"
   ]
  },
  {
   "cell_type": "code",
   "execution_count": null,
   "id": "1b8e5500-23c4-452a-b307-160f077a32fa",
   "metadata": {},
   "outputs": [],
   "source": []
  },
  {
   "cell_type": "code",
   "execution_count": null,
   "id": "ee98fa66-179c-43cd-b7ec-857bc98d934b",
   "metadata": {},
   "outputs": [],
   "source": []
  },
  {
   "cell_type": "code",
   "execution_count": 31,
   "id": "83433935-989e-4992-9dac-1ab0cf20b9a8",
   "metadata": {},
   "outputs": [
    {
     "data": {
      "text/html": [
       "<div>\n",
       "<style scoped>\n",
       "    .dataframe tbody tr th:only-of-type {\n",
       "        vertical-align: middle;\n",
       "    }\n",
       "\n",
       "    .dataframe tbody tr th {\n",
       "        vertical-align: top;\n",
       "    }\n",
       "\n",
       "    .dataframe thead th {\n",
       "        text-align: right;\n",
       "    }\n",
       "</style>\n",
       "<table border=\"1\" class=\"dataframe\">\n",
       "  <thead>\n",
       "    <tr style=\"text-align: right;\">\n",
       "      <th></th>\n",
       "      <th>normal</th>\n",
       "      <th>low</th>\n",
       "      <th>critical</th>\n",
       "      <th>high</th>\n",
       "      <th>sensor</th>\n",
       "    </tr>\n",
       "  </thead>\n",
       "  <tbody>\n",
       "    <tr>\n",
       "      <th>0</th>\n",
       "      <td>8.0</td>\n",
       "      <td>5.0</td>\n",
       "      <td>3</td>\n",
       "      <td>10</td>\n",
       "      <td>sleep</td>\n",
       "    </tr>\n",
       "    <tr>\n",
       "      <th>1</th>\n",
       "      <td>75.0</td>\n",
       "      <td>10.0</td>\n",
       "      <td>0</td>\n",
       "      <td>100</td>\n",
       "      <td>exercise time</td>\n",
       "    </tr>\n",
       "    <tr>\n",
       "      <th>2</th>\n",
       "      <td>80.0</td>\n",
       "      <td>58.0</td>\n",
       "      <td>100</td>\n",
       "      <td>120</td>\n",
       "      <td>heart beat</td>\n",
       "    </tr>\n",
       "    <tr>\n",
       "      <th>3</th>\n",
       "      <td>120.0</td>\n",
       "      <td>90.0</td>\n",
       "      <td>130</td>\n",
       "      <td>140</td>\n",
       "      <td>blood pressure</td>\n",
       "    </tr>\n",
       "    <tr>\n",
       "      <th>4</th>\n",
       "      <td>3.7</td>\n",
       "      <td>1.5</td>\n",
       "      <td>1</td>\n",
       "      <td>5</td>\n",
       "      <td>water intake</td>\n",
       "    </tr>\n",
       "    <tr>\n",
       "      <th>5</th>\n",
       "      <td>80.0</td>\n",
       "      <td>70.0</td>\n",
       "      <td>40</td>\n",
       "      <td>125</td>\n",
       "      <td>sugar level</td>\n",
       "    </tr>\n",
       "    <tr>\n",
       "      <th>6</th>\n",
       "      <td>3.0</td>\n",
       "      <td>1.0</td>\n",
       "      <td>10</td>\n",
       "      <td>5</td>\n",
       "      <td>mobile usage</td>\n",
       "    </tr>\n",
       "    <tr>\n",
       "      <th>7</th>\n",
       "      <td>2000.0</td>\n",
       "      <td>1200.0</td>\n",
       "      <td>100</td>\n",
       "      <td>6000</td>\n",
       "      <td>calories intake</td>\n",
       "    </tr>\n",
       "  </tbody>\n",
       "</table>\n",
       "</div>"
      ],
      "text/plain": [
       "   normal     low  critical  high           sensor\n",
       "0     8.0     5.0         3    10            sleep\n",
       "1    75.0    10.0         0   100    exercise time\n",
       "2    80.0    58.0       100   120       heart beat\n",
       "3   120.0    90.0       130   140   blood pressure\n",
       "4     3.7     1.5         1     5     water intake\n",
       "5    80.0    70.0        40   125      sugar level\n",
       "6     3.0     1.0        10     5     mobile usage\n",
       "7  2000.0  1200.0       100  6000  calories intake"
      ]
     },
     "execution_count": 31,
     "metadata": {},
     "output_type": "execute_result"
    }
   ],
   "source": [
    "df = pd.read_json(json.load(open(\"rules.json\")), orient ='records')\n",
    "df"
   ]
  },
  {
   "cell_type": "code",
   "execution_count": 305,
   "id": "2d8a836e-7fba-47e2-9227-d8cca14493a2",
   "metadata": {},
   "outputs": [
    {
     "name": "stdin",
     "output_type": "stream",
     "text": [
      "Enter your name jack\n"
     ]
    },
    {
     "name": "stdout",
     "output_type": "stream",
     "text": [
      "welcome to jack\n"
     ]
    },
    {
     "data": {
      "text/plain": [
       "<AxesSubplot: >"
      ]
     },
     "execution_count": 305,
     "metadata": {},
     "output_type": "execute_result"
    },
    {
     "data": {
      "image/png": "[encoded data removed]",
      "text/plain": [
       "<Figure size 640x480 with 1 Axes>"
      ]
     },
     "metadata": {},
     "output_type": "display_data"
    }
   ],
   "source": [
    "name = input(\"Enter your name\")\n",
    "data=validate_user(name)\n",
    "\n",
    "week=pd.DataFrame(data.sort_values(by=\"date\",ascending=False).iloc[0:7,2:].mean(axis=0))\n",
    "sdata =data.sort_values(by=\"date\",ascending=False).iloc[0:7,:]\n",
    "week=week.rename(columns={0:\"week average\"})\n",
    "week.loc['calories intake',:] = math.log2(week.loc['calories intake',])\n",
    "\n",
    "tdata =pd.merge(df,week, how='inner', left_index=True, right_index=True)\n",
    "tdata =tdata[[\"normal\",\"week average\"]]\n",
    "tdata.loc['calories intake',:]=list(np.log2(np.array(tdata.loc['calories intake',:])))\n",
    "tdata.plot.bar(rot=90)"
   ]
  },
  {
   "cell_type": "code",
   "execution_count": null,
   "id": "4e9969f0-1124-4427-afbb-48770a035a95",
   "metadata": {},
   "outputs": [],
   "source": []
  },
  {
   "cell_type": "code",
   "execution_count": 245,
   "id": "b036488c-dee7-4805-9087-5a9de52213ed",
   "metadata": {},
   "outputs": [],
   "source": [
    "def get_stat(sname,val):\n",
    "    #xxx\n",
    "    lflag =\"\"\n",
    "    \n",
    "    lflag1 =\"\"\n",
    "    f2 =\"\"\n",
    "    f3=\"\"\n",
    "    \n",
    "    tr = df[df['sensor']==sname]\n",
    "    exp = round(val/float(tr['normal']) * 100,3)\n",
    "    flag=\"decrease\"\n",
    "    if exp>100:\n",
    "        flag=\"increase\"\n",
    "        rval = exp-100\n",
    "    else:\n",
    "        rval = 100-(exp)\n",
    "    # # check from low level\n",
    "  \n",
    "    mout = sensors_meta[sname].split('/')\n",
    "    \n",
    "    if flag==\"increase\":\n",
    "        lflag1=\"high\"\n",
    "        f3=f\"looks {mout[0]}\"\n",
    "\n",
    "        if val > float(tr['high']):\n",
    "            lflag = \"higher\"\n",
    "            f2=f\"but higher\"\n",
    "        #print(\"printing here\")\n",
    "        else:\n",
    "            lfag=\"lower\"\n",
    "            f2=\"but lower\"\n",
    " \n",
    "    else:\n",
    "        f3=f\"looks {mout[1]}\"\n",
    "        lflag1=\"low\"\n",
    "        if val > float(tr['low']):\n",
    "            lflag = \"higher\"\n",
    "            f2=\" but higher\"\n",
    "            #print(f\"printing here{flag}\")\n",
    "        else:\n",
    "            lfag=\"lower\"\n",
    "            f2=\"even lower\"\n",
    "            \n",
    "             \n",
    "        \n",
    "   # print(f\"printing here____________________________________________________{flag}\")    \n",
    "    mout = sensors_meta[sname].split('/')\n",
    "    \n",
    "   # print(mout)\n",
    "    \n",
    "    rtxt = f\"it is observed that {sname} is {flag} {rval}%,{f2} than {lflag1} level\"\n",
    "    print(rtxt)\n",
    "    return flag,rval,rtxt\n",
    "    "
   ]
  },
  {
   "cell_type": "code",
   "execution_count": null,
   "id": "44bb5107-2b05-42e6-a0d5-237642765187",
   "metadata": {},
   "outputs": [],
   "source": []
  },
  {
   "cell_type": "code",
   "execution_count": null,
   "id": "58df1125-2b64-4c98-895f-6d151bf566f7",
   "metadata": {},
   "outputs": [],
   "source": []
  },
  {
   "cell_type": "code",
   "execution_count": 306,
   "id": "d918fd5f-cf3d-46ae-8203-04ee2de91f90",
   "metadata": {},
   "outputs": [
    {
     "name": "stdin",
     "output_type": "stream",
     "text": [
      " I am not feeling well\n"
     ]
    },
    {
     "name": "stdout",
     "output_type": "stream",
     "text": [
      "it is observed that sleep is decrease 44.643%,even lower than low level\n",
      "it is observed that exercise time is decrease 47.238%, but higher than low level\n",
      "it is observed that heart beat is increase 12.5%,but lower than high level\n",
      "it is observed that blood pressure is decrease 15.0%, but higher than low level\n",
      "it is observed that water intake is decrease 42.085%, but higher than low level\n",
      "it is observed that sugar level is increase 21.786%,but lower than high level\n",
      "it is observed that mobile usage is increase 85.714%,but higher than high level\n",
      "it is observed that calories intake is decrease 99.829%,even lower than low level\n"
     ]
    }
   ],
   "source": [
    "qtxt = input()\n",
    "final = pd.DataFrame([],columns=[\"sensor\",\"flag\",\"value\"])\n",
    "for item in tdata.index:\n",
    "    flag,val,rtxt = get_stat(sname=item,val=tdata.loc[item,'week average'])\n",
    "    final.loc[len(final.index)] = [item,flag,val]\n",
    "dfinal=final[final.flag==\"decrease\"]\n",
    "ifinal = final[final.flag==\"increase\"]\n",
    "cmd= qtxt+\", I have increase % of \"+','.join(ifinal.sensor)+\" by \"+','.join(map(str,ifinal.value))+\" and decrease \"+','.join(dfinal.sensor)+\" by \"+'.'.join(map(str,dfinal.value))+\",respectively\""
   ]
  },
  {
   "cell_type": "code",
   "execution_count": 307,
   "id": "2e47909f-7358-4f37-a531-cb1c0924ee13",
   "metadata": {},
   "outputs": [
    {
     "data": {
      "text/plain": [
       "'I am not feeling well, I have increase % of heart beat,sugar level,mobile usage by 12.5,21.786,85.714 and decrease sleep,exercise time,blood pressure,water intake,calories intake by 44.643.47.238.15.0.42.085.99.829,respectively'"
      ]
     },
     "execution_count": 307,
     "metadata": {},
     "output_type": "execute_result"
    }
   ],
   "source": [
    "cmd"
   ]
  },
  {
   "cell_type": "markdown",
   "id": "1697493f-f54a-4745-a9ac-64b105f0fdae",
   "metadata": {},
   "source": [
    "<h1 style='color:blue'> Chat GPT </h1>"
   ]
  },
  {
   "cell_type": "code",
   "execution_count": 308,
   "id": "b374d79e-5560-43b7-bf25-f13dc095c431",
   "metadata": {},
   "outputs": [
    {
     "name": "stdout",
     "output_type": "stream",
     "text": [
      ".\n",
      "\n",
      "It is important to take these changes seriously and to seek medical help if necessary. Make sure to monitor your heart rate and sugar level regularly, and to reduce your mobile usage as much as possible. Additionally, it is important to make sure you are getting enough sleep, exercising regularly, and maintaining a healthy blood pressure. Increasing your water intake and reducing your calories intake can also help improve your overall health.\n"
     ]
    }
   ],
   "source": [
    "prompt = cmd\n",
    "\n",
    "# Generate a response\n",
    "completion = openai.Completion.create(\n",
    "    engine=model_engine,\n",
    "    prompt=prompt,\n",
    "    max_tokens=1024,\n",
    "    n=1,\n",
    "    stop=None,\n",
    "    temperature=0.5,\n",
    ")\n",
    "response = completion.choices[0].text\n",
    "print(response)"
   ]
  },
  {
   "cell_type": "markdown",
   "id": "e6b5d6ec-8f06-4f4f-8f34-4f4a0e561561",
   "metadata": {},
   "source": [
    "<h1 style='color:red'> Facebook Opt 2.7 </h1>"
   ]
  },
  {
   "cell_type": "code",
   "execution_count": 309,
   "id": "f2d8a941-a765-4f1e-8c18-81181efd2ac8",
   "metadata": {},
   "outputs": [
    {
     "data": {
      "text/plain": [
       "[{'generated_text': 'I am not feeling well, I have increase % of heart beat,sugar level,mobile usage by 12.5,21.786,85.714 and decrease sleep,exercise time,blood pressure,water intake,calories intake by 44.643.47.238.15.0.42.085.99.829,respectively. Is this good or I should contact with doctor?I am 45 years old and working as a software engineer. Any suggestions,'},\n",
       " {'generated_text': 'I am not feeling well, I have increase % of heart beat,sugar level,mobile usage by 12.5,21.786,85.714 and decrease sleep,exercise time,blood pressure,water intake,calories intake by 44.643.47.238.15.0.42.085.99.829,respectively. What could be the reason that I feel not so well? I am also feeling sick and body ache with cold,fe'}]"
      ]
     },
     "execution_count": 309,
     "metadata": {},
     "output_type": "execute_result"
    }
   ],
   "source": [
    "from transformers import pipeline\n",
    "generator = pipeline('text-generation', model=\"facebook/opt-2.7b\",max_length=100, do_sample=True, num_return_sequences=2)\n",
    "generator(cmd)"
   ]
  },
  {
   "cell_type": "code",
   "execution_count": null,
   "id": "7bdadcb1-02ea-4a28-a1a0-845753a465af",
   "metadata": {},
   "outputs": [],
   "source": []
  },
  {
   "cell_type": "code",
   "execution_count": null,
   "id": "2c81eafd-7846-4aaf-ab5d-a6d64f870bf0",
   "metadata": {},
   "outputs": [],
   "source": []
  },
  {
   "cell_type": "code",
   "execution_count": null,
   "id": "77dc08c4-0441-49ed-8ee8-578d6b38effb",
   "metadata": {},
   "outputs": [],
   "source": []
  },
  {
   "cell_type": "code",
   "execution_count": null,
   "id": "b58701c6-aff1-48ec-8d94-672eb9e9de72",
   "metadata": {},
   "outputs": [],
   "source": []
  },
  {
   "cell_type": "code",
   "execution_count": null,
   "id": "ba285439-56ce-43c5-bdbe-5e277c8be4f7",
   "metadata": {},
   "outputs": [],
   "source": []
  },
  {
   "cell_type": "code",
   "execution_count": null,
   "id": "c4f0b4a5-819e-4ade-825c-a470489647f8",
   "metadata": {},
   "outputs": [],
   "source": []
  },
  {
   "cell_type": "code",
   "execution_count": null,
   "id": "7c47d9a9-f4c0-4bed-9bbf-570f5e2059c6",
   "metadata": {},
   "outputs": [],
   "source": []
  },
  {
   "cell_type": "code",
   "execution_count": null,
   "id": "7f7cb703-1789-4098-80aa-074025dd0216",
   "metadata": {},
   "outputs": [],
   "source": []
  },
  {
   "cell_type": "code",
   "execution_count": null,
   "id": "6d4a5410-3ed9-46e5-bccb-614c2e41c849",
   "metadata": {},
   "outputs": [],
   "source": []
  },
  {
   "cell_type": "code",
   "execution_count": null,
   "id": "b98938b8-4457-4b10-a10f-8759e53e987a",
   "metadata": {},
   "outputs": [],
   "source": []
  },
  {
   "cell_type": "code",
   "execution_count": null,
   "id": "ab1e2dc3-0534-45ca-8b31-5c76e560aaa1",
   "metadata": {},
   "outputs": [],
   "source": []
  },
  {
   "cell_type": "code",
   "execution_count": null,
   "id": "2765fbe4-fc56-41c2-8225-b802392f8818",
   "metadata": {},
   "outputs": [],
   "source": []
  },
  {
   "cell_type": "code",
   "execution_count": null,
   "id": "08d6b8dd-8f3e-46b4-a163-31cece2b8437",
   "metadata": {},
   "outputs": [],
   "source": []
  },
  {
   "cell_type": "code",
   "execution_count": null,
   "id": "b13d2965-0d0f-46fd-862b-6575280b337e",
   "metadata": {},
   "outputs": [],
   "source": []
  },
  {
   "cell_type": "code",
   "execution_count": null,
   "id": "9a0e42ea-8c7b-429d-bde6-ef0eb61f151b",
   "metadata": {},
   "outputs": [],
   "source": []
  },
  {
   "cell_type": "code",
   "execution_count": null,
   "id": "82327ab1-5321-41c3-9ea1-3d6ed0c820a7",
   "metadata": {},
   "outputs": [],
   "source": []
  },
  {
   "cell_type": "code",
   "execution_count": null,
   "id": "9007df46-7b06-47e6-835e-152405daa484",
   "metadata": {},
   "outputs": [],
   "source": []
  },
  {
   "cell_type": "code",
   "execution_count": null,
   "id": "2a18cb1e-bea5-409c-a910-70b32c700b63",
   "metadata": {},
   "outputs": [],
   "source": []
  },
  {
   "cell_type": "code",
   "execution_count": null,
   "id": "2d081319-8e9c-48ab-bd77-2bce6dac3a68",
   "metadata": {},
   "outputs": [],
   "source": []
  },
  {
   "cell_type": "code",
   "execution_count": null,
   "id": "f4560c5b-3b2b-4d1b-8fa3-6c79564f0ffe",
   "metadata": {},
   "outputs": [],
   "source": []
  },
  {
   "cell_type": "code",
   "execution_count": null,
   "id": "0e420e65-0431-454d-b6e9-0da1b61cccea",
   "metadata": {},
   "outputs": [],
   "source": []
  },
  {
   "cell_type": "code",
   "execution_count": null,
   "id": "648334d1-2e4d-452b-a71e-29450e9cd0e4",
   "metadata": {},
   "outputs": [],
   "source": []
  },
  {
   "cell_type": "code",
   "execution_count": null,
   "id": "b174506f-05a7-422a-b1f3-6b378f4542fd",
   "metadata": {},
   "outputs": [],
   "source": []
  },
  {
   "cell_type": "code",
   "execution_count": null,
   "id": "4f8d2fbc-9b78-4763-a668-2548bcb42dae",
   "metadata": {},
   "outputs": [],
   "source": []
  },
  {
   "cell_type": "code",
   "execution_count": null,
   "id": "ebc88f9c-7959-4b96-bc7a-4c2782170e18",
   "metadata": {},
   "outputs": [],
   "source": []
  },
  {
   "cell_type": "code",
   "execution_count": null,
   "id": "3e10dab8-13a4-4abb-a0f8-dfeae5808053",
   "metadata": {},
   "outputs": [],
   "source": []
  },
  {
   "cell_type": "code",
   "execution_count": null,
   "id": "98e800ef-1da7-4f79-afe1-bae29ecb7746",
   "metadata": {},
   "outputs": [],
   "source": []
  },
  {
   "cell_type": "code",
   "execution_count": null,
   "id": "6274448e-d50b-43a2-97fb-1806e11360b9",
   "metadata": {},
   "outputs": [],
   "source": []
  }
 ],
 "metadata": {
  "kernelspec": {
   "display_name": "Python 3 (ipykernel)",
   "language": "python",
   "name": "python3"
  },
  "language_info": {
   "codemirror_mode": {
    "name": "ipython",
    "version": 3
   },
   "file_extension": ".py",
   "mimetype": "text/x-python",
   "name": "python",
   "nbconvert_exporter": "python",
   "pygments_lexer": "ipython3",
   "version": "3.9.13"
  }
 },
 "nbformat": 4,
 "nbformat_minor": 5
}
